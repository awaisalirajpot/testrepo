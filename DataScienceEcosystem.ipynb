{
 "cells": [
  {
   "cell_type": "markdown",
   "id": "c3345869-7f3d-40a2-94eb-72b3cf09c37a",
   "metadata": {},
   "source": [
    "## Data Science Tools and Ecosystem\n",
    "**Objectives:**\n",
    "- Commonly used languages\n",
    "- Commonly used libraries\n",
    "- Creating table\n",
    "- Evaluating arthimatic expression\n",
    "## Author\n",
    "Awais Ali"
   ]
  },
  {
   "cell_type": "markdown",
   "id": "b8fafef8-da95-4a0e-ad18-4557317d10cc",
   "metadata": {},
   "source": [
    "##### In this notebook, Data Science Tools and Ecosystem are summarized.\n",
    "Order list for most commonly used languages for data science\n",
    "1. Python\n",
    "2. R Language\n",
    "3. Scala\n",
    "4. SQL\n",
    "5. C++ etc."
   ]
  },
  {
   "cell_type": "markdown",
   "id": "b2c2959a-4e83-45f6-8e90-67c3916237ff",
   "metadata": {},
   "source": [
    "Some of the commonly used libraries used by Data Scientists include:\n",
    "1. Pandas\n",
    "2. Numpy\n",
    "3. Scikit\n",
    "4. Matplatlib"
   ]
  },
  {
   "cell_type": "markdown",
   "id": "f470780a-9884-4acf-9b19-679c6d7c9152",
   "metadata": {},
   "source": [
    "| Data science tools |\n",
    "| -----------------|\n",
    "| Visual Studio |\n",
    "| Git |\n",
    "| Docker |"
   ]
  },
  {
   "cell_type": "markdown",
   "id": "7cdbe685-3bc0-4561-9d98-a72515503cb6",
   "metadata": {},
   "source": [
    "### Below are a few examples of evaluating arithmetic expressions in Python"
   ]
  },
  {
   "cell_type": "code",
   "execution_count": 2,
   "id": "54f0ad6a-fb10-4277-8e14-7d3d7a41ad64",
   "metadata": {},
   "outputs": [
    {
     "name": "stdout",
     "output_type": "stream",
     "text": [
      "6\n",
      "4.0\n"
     ]
    }
   ],
   "source": [
    "a = 3\n",
    "b = 2\n",
    "print(a*b)\n",
    "\n",
    "c = 24\n",
    "d = 6\n",
    "print(c/d)"
   ]
  },
  {
   "cell_type": "code",
   "execution_count": 3,
   "id": "8e4a4163-76da-4872-b535-895ff4d17a48",
   "metadata": {},
   "outputs": [
    {
     "name": "stdout",
     "output_type": "stream",
     "text": [
      "17\n"
     ]
    }
   ],
   "source": [
    "num = (3*4)+5 \n",
    "# This a simple arithmetic expression to mutiply then add integers\n",
    "print(num)"
   ]
  },
  {
   "cell_type": "code",
   "execution_count": 4,
   "id": "e67a6607-e0ce-43a5-a438-865ad4578ed8",
   "metadata": {},
   "outputs": [
    {
     "name": "stdout",
     "output_type": "stream",
     "text": [
      "Total hours in 200 minuts are: 3.3333333333333335\n"
     ]
    }
   ],
   "source": [
    "minuts = 200\n",
    "# This will convert 200 minutes to hours by diving by 60\n",
    "hours = minuts/60\n",
    "print (\"Total hours in 200 minuts are:\", hours)"
   ]
  },
  {
   "cell_type": "code",
   "execution_count": null,
   "id": "5e7f5c16-bbfc-4ea0-89ba-218a624f7f4e",
   "metadata": {},
   "outputs": [],
   "source": []
  }
 ],
 "metadata": {
  "kernelspec": {
   "display_name": "Python 3 (ipykernel)",
   "language": "python",
   "name": "python3"
  },
  "language_info": {
   "codemirror_mode": {
    "name": "ipython",
    "version": 3
   },
   "file_extension": ".py",
   "mimetype": "text/x-python",
   "name": "python",
   "nbconvert_exporter": "python",
   "pygments_lexer": "ipython3",
   "version": "3.13.5"
  }
 },
 "nbformat": 4,
 "nbformat_minor": 5
}
